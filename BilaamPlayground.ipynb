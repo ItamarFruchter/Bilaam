{
 "cells": [
  {
   "cell_type": "code",
   "execution_count": 1,
   "id": "07757abb",
   "metadata": {},
   "outputs": [
    {
     "name": "stdout",
     "output_type": "stream",
     "text": [
      "Using device: cuda\n",
      "Using device: cuda\n"
     ]
    }
   ],
   "source": [
    "import sys\n",
    "# Remove the module from cache if it exists\n",
    "if 'BilaamRunner' in sys.modules:\n",
    "    del sys.modules['BilaamRunner']\n",
    "from BilaamRunner import BilaamRunner"
   ]
  },
  {
   "cell_type": "markdown",
   "id": "812a50cd",
   "metadata": {},
   "source": [
    "# Train"
   ]
  },
  {
   "cell_type": "markdown",
   "id": "36eb32ad",
   "metadata": {},
   "source": [
    "## Sanity"
   ]
  },
  {
   "cell_type": "code",
   "execution_count": 21,
   "id": "6f3c86c1",
   "metadata": {},
   "outputs": [
    {
     "name": "stdout",
     "output_type": "stream",
     "text": [
      "==================== Loading the data... ====================\n",
      "Reading the bible:\n",
      "\t בראשית\n",
      "\t שמות\n",
      "\t ויקרא\n",
      "\t במדבר\n",
      "\t דברים\n",
      "\t יהושוע\n",
      "\t שופטים\n",
      "\t שמואל\n",
      "\t מלכים\n",
      "\t ישעיהו\n",
      "\t ירמיהו\n",
      "\t יחזקאל\n",
      "\t הושע\n",
      "\t יואל\n",
      "\t עמוס\n",
      "\t עובדיה\n",
      "\t יונה\n",
      "\t מיכה\n",
      "\t נחום\n",
      "\t חבקוק\n",
      "\t צפניה\n",
      "\t חגיי\n",
      "\t זכריה\n",
      "\t מלאכי\n",
      "\t תהילים\n",
      "\t איוב\n",
      "\t משלי\n",
      "\t קוהלת\n",
      "\t איכה\n",
      "\t אסתר\n",
      "\t דנייאל\n",
      "Dataset length: 5000 characters\n",
      "Encoding and tokenizing...\n",
      "Vocab size: 81 (dense range 0-80)\n",
      "Original sparse token range: 10-303\n",
      "Original character vocab size: 34\n",
      "Done!\n",
      "==================== Training... ====================\n"
     ]
    },
    {
     "name": "stderr",
     "output_type": "stream",
     "text": [
      "100%|██████████| 5/5 [01:46<00:00, 21.33s/it] \n"
     ]
    },
    {
     "data": {
      "image/png": "[encoded data removed]",
      "text/plain": [
       "<Figure size 432x288 with 1 Axes>"
      ]
     },
     "metadata": {
      "needs_background": "light"
     },
     "output_type": "display_data"
    },
    {
     "name": "stdout",
     "output_type": "stream",
     "text": [
      "Final loss:\n",
      "\tTrain - 4.579010963439941\n",
      "\tValidation - 4.583786964416504\n"
     ]
    }
   ],
   "source": [
    "br = BilaamRunner(should_train=True, train_mock=True)"
   ]
  },
  {
   "cell_type": "code",
   "execution_count": 22,
   "id": "95ef1ce3",
   "metadata": {},
   "outputs": [
    {
     "data": {
      "text/plain": [
       "Bilaam(\n",
       "  (token_embedding_table): Embedding(81, 384)\n",
       "  (position_embedding_table): Embedding(256, 384)\n",
       "  (blocks): Sequential(\n",
       "    (0): Block(\n",
       "      (sa): MultiHead(\n",
       "        (heads): ModuleList(\n",
       "          (0-5): 6 x Head(\n",
       "            (key): Linear(in_features=384, out_features=64, bias=False)\n",
       "            (query): Linear(in_features=384, out_features=64, bias=False)\n",
       "            (value): Linear(in_features=384, out_features=64, bias=False)\n",
       "            (dropout): Dropout(p=0.2, inplace=False)\n",
       "          )\n",
       "        )\n",
       "        (proj): Linear(in_features=384, out_features=384, bias=True)\n",
       "        (dropout): Dropout(p=0.2, inplace=False)\n",
       "      )\n",
       "      (ln1): LayerNorm((384,), eps=1e-05, elementwise_affine=True)\n",
       "      (ffwd): FeedForward(\n",
       "        (net): Sequential(\n",
       "          (0): Linear(in_features=384, out_features=1536, bias=True)\n",
       "          (1): ReLU()\n",
       "          (2): Linear(in_features=1536, out_features=384, bias=True)\n",
       "          (3): Dropout(p=0.2, inplace=False)\n",
       "        )\n",
       "      )\n",
       "      (ln2): LayerNorm((384,), eps=1e-05, elementwise_affine=True)\n",
       "    )\n",
       "    (1): Block(\n",
       "      (sa): MultiHead(\n",
       "        (heads): ModuleList(\n",
       "          (0-5): 6 x Head(\n",
       "            (key): Linear(in_features=384, out_features=64, bias=False)\n",
       "            (query): Linear(in_features=384, out_features=64, bias=False)\n",
       "            (value): Linear(in_features=384, out_features=64, bias=False)\n",
       "            (dropout): Dropout(p=0.2, inplace=False)\n",
       "          )\n",
       "        )\n",
       "        (proj): Linear(in_features=384, out_features=384, bias=True)\n",
       "        (dropout): Dropout(p=0.2, inplace=False)\n",
       "      )\n",
       "      (ln1): LayerNorm((384,), eps=1e-05, elementwise_affine=True)\n",
       "      (ffwd): FeedForward(\n",
       "        (net): Sequential(\n",
       "          (0): Linear(in_features=384, out_features=1536, bias=True)\n",
       "          (1): ReLU()\n",
       "          (2): Linear(in_features=1536, out_features=384, bias=True)\n",
       "          (3): Dropout(p=0.2, inplace=False)\n",
       "        )\n",
       "      )\n",
       "      (ln2): LayerNorm((384,), eps=1e-05, elementwise_affine=True)\n",
       "    )\n",
       "    (2): Block(\n",
       "      (sa): MultiHead(\n",
       "        (heads): ModuleList(\n",
       "          (0-5): 6 x Head(\n",
       "            (key): Linear(in_features=384, out_features=64, bias=False)\n",
       "            (query): Linear(in_features=384, out_features=64, bias=False)\n",
       "            (value): Linear(in_features=384, out_features=64, bias=False)\n",
       "            (dropout): Dropout(p=0.2, inplace=False)\n",
       "          )\n",
       "        )\n",
       "        (proj): Linear(in_features=384, out_features=384, bias=True)\n",
       "        (dropout): Dropout(p=0.2, inplace=False)\n",
       "      )\n",
       "      (ln1): LayerNorm((384,), eps=1e-05, elementwise_affine=True)\n",
       "      (ffwd): FeedForward(\n",
       "        (net): Sequential(\n",
       "          (0): Linear(in_features=384, out_features=1536, bias=True)\n",
       "          (1): ReLU()\n",
       "          (2): Linear(in_features=1536, out_features=384, bias=True)\n",
       "          (3): Dropout(p=0.2, inplace=False)\n",
       "        )\n",
       "      )\n",
       "      (ln2): LayerNorm((384,), eps=1e-05, elementwise_affine=True)\n",
       "    )\n",
       "    (3): Block(\n",
       "      (sa): MultiHead(\n",
       "        (heads): ModuleList(\n",
       "          (0-5): 6 x Head(\n",
       "            (key): Linear(in_features=384, out_features=64, bias=False)\n",
       "            (query): Linear(in_features=384, out_features=64, bias=False)\n",
       "            (value): Linear(in_features=384, out_features=64, bias=False)\n",
       "            (dropout): Dropout(p=0.2, inplace=False)\n",
       "          )\n",
       "        )\n",
       "        (proj): Linear(in_features=384, out_features=384, bias=True)\n",
       "        (dropout): Dropout(p=0.2, inplace=False)\n",
       "      )\n",
       "      (ln1): LayerNorm((384,), eps=1e-05, elementwise_affine=True)\n",
       "      (ffwd): FeedForward(\n",
       "        (net): Sequential(\n",
       "          (0): Linear(in_features=384, out_features=1536, bias=True)\n",
       "          (1): ReLU()\n",
       "          (2): Linear(in_features=1536, out_features=384, bias=True)\n",
       "          (3): Dropout(p=0.2, inplace=False)\n",
       "        )\n",
       "      )\n",
       "      (ln2): LayerNorm((384,), eps=1e-05, elementwise_affine=True)\n",
       "    )\n",
       "    (4): Block(\n",
       "      (sa): MultiHead(\n",
       "        (heads): ModuleList(\n",
       "          (0-5): 6 x Head(\n",
       "            (key): Linear(in_features=384, out_features=64, bias=False)\n",
       "            (query): Linear(in_features=384, out_features=64, bias=False)\n",
       "            (value): Linear(in_features=384, out_features=64, bias=False)\n",
       "            (dropout): Dropout(p=0.2, inplace=False)\n",
       "          )\n",
       "        )\n",
       "        (proj): Linear(in_features=384, out_features=384, bias=True)\n",
       "        (dropout): Dropout(p=0.2, inplace=False)\n",
       "      )\n",
       "      (ln1): LayerNorm((384,), eps=1e-05, elementwise_affine=True)\n",
       "      (ffwd): FeedForward(\n",
       "        (net): Sequential(\n",
       "          (0): Linear(in_features=384, out_features=1536, bias=True)\n",
       "          (1): ReLU()\n",
       "          (2): Linear(in_features=1536, out_features=384, bias=True)\n",
       "          (3): Dropout(p=0.2, inplace=False)\n",
       "        )\n",
       "      )\n",
       "      (ln2): LayerNorm((384,), eps=1e-05, elementwise_affine=True)\n",
       "    )\n",
       "    (5): Block(\n",
       "      (sa): MultiHead(\n",
       "        (heads): ModuleList(\n",
       "          (0-5): 6 x Head(\n",
       "            (key): Linear(in_features=384, out_features=64, bias=False)\n",
       "            (query): Linear(in_features=384, out_features=64, bias=False)\n",
       "            (value): Linear(in_features=384, out_features=64, bias=False)\n",
       "            (dropout): Dropout(p=0.2, inplace=False)\n",
       "          )\n",
       "        )\n",
       "        (proj): Linear(in_features=384, out_features=384, bias=True)\n",
       "        (dropout): Dropout(p=0.2, inplace=False)\n",
       "      )\n",
       "      (ln1): LayerNorm((384,), eps=1e-05, elementwise_affine=True)\n",
       "      (ffwd): FeedForward(\n",
       "        (net): Sequential(\n",
       "          (0): Linear(in_features=384, out_features=1536, bias=True)\n",
       "          (1): ReLU()\n",
       "          (2): Linear(in_features=1536, out_features=384, bias=True)\n",
       "          (3): Dropout(p=0.2, inplace=False)\n",
       "        )\n",
       "      )\n",
       "      (ln2): LayerNorm((384,), eps=1e-05, elementwise_affine=True)\n",
       "    )\n",
       "  )\n",
       "  (ln_f): LayerNorm((384,), eps=1e-05, elementwise_affine=True)\n",
       "  (lm_head): Linear(in_features=384, out_features=81, bias=True)\n",
       ")"
      ]
     },
     "execution_count": 22,
     "metadata": {},
     "output_type": "execute_result"
    }
   ],
   "source": [
    "br.model"
   ]
  },
  {
   "cell_type": "markdown",
   "id": "9991b0f5",
   "metadata": {},
   "source": [
    "## Full train"
   ]
  },
  {
   "cell_type": "code",
   "execution_count": 28,
   "id": "68f00bef",
   "metadata": {},
   "outputs": [
    {
     "name": "stdout",
     "output_type": "stream",
     "text": [
      "==================== Loading the data... ====================\n",
      "Reading the bible:\n",
      "\t בראשית\n",
      "\t שמות\n",
      "\t ויקרא\n",
      "\t במדבר\n",
      "\t דברים\n",
      "\t יהושוע\n",
      "\t שופטים\n",
      "\t שמואל\n",
      "\t מלכים\n",
      "\t ישעיהו\n",
      "\t ירמיהו\n",
      "\t יחזקאל\n",
      "\t הושע\n",
      "\t יואל\n",
      "\t עמוס\n",
      "\t עובדיה\n",
      "\t יונה\n",
      "\t מיכה\n",
      "\t נחום\n",
      "\t חבקוק\n",
      "\t צפניה\n",
      "\t חגיי\n",
      "\t זכריה\n",
      "\t מלאכי\n",
      "\t תהילים\n",
      "\t איוב\n",
      "\t משלי\n",
      "\t קוהלת\n",
      "\t איכה\n",
      "\t אסתר\n",
      "\t דנייאל\n",
      "Dataset length: 3342502 characters\n",
      "Encoding and tokenizing...\n",
      "Vocab size: 84 (dense range 0-83)\n",
      "Original sparse token range: 10-303\n",
      "Original character vocab size: 37\n",
      "Done!\n",
      "==================== Training... ====================\n"
     ]
    },
    {
     "name": "stderr",
     "output_type": "stream",
     "text": [
      "100%|██████████| 5000/5000 [6:10:14<00:00,  4.44s/it]   \n"
     ]
    },
    {
     "data": {
      "image/png": "[encoded data removed]",
      "text/plain": [
       "<Figure size 432x288 with 1 Axes>"
      ]
     },
     "metadata": {
      "needs_background": "light"
     },
     "output_type": "display_data"
    },
    {
     "name": "stdout",
     "output_type": "stream",
     "text": [
      "Final loss:\n",
      "\tTrain - 1.0074341297149658\n",
      "\tValidation - 1.5974819660186768\n"
     ]
    }
   ],
   "source": [
    "br = BilaamRunner(should_train=True)"
   ]
  },
  {
   "cell_type": "code",
   "execution_count": 30,
   "id": "25d52781",
   "metadata": {},
   "outputs": [],
   "source": [
    "br.save_model()"
   ]
  },
  {
   "cell_type": "code",
   "execution_count": null,
   "id": "50d8ea72",
   "metadata": {},
   "outputs": [
    {
     "data": {
      "text/plain": [
       "'./bilaam.checkpoint'"
      ]
     },
     "execution_count": 31,
     "metadata": {},
     "output_type": "execute_result"
    }
   ],
   "source": [
    "br.checkpoint_path"
   ]
  },
  {
   "cell_type": "markdown",
   "id": "b7a67345",
   "metadata": {},
   "source": [
    "# Load from checkpoint"
   ]
  },
  {
   "cell_type": "code",
   "execution_count": 2,
   "id": "da47b25b",
   "metadata": {},
   "outputs": [],
   "source": [
    "br = BilaamRunner() # Will load from checkpoint"
   ]
  },
  {
   "cell_type": "code",
   "execution_count": 10,
   "id": "1ba91c3b",
   "metadata": {},
   "outputs": [
    {
     "name": "stdout",
     "output_type": "stream",
     "text": [
      "החמור של בילעם אומר  הנה, ברוב עם יהודה; ויאמרו, שי-נא ייצאו מן-המלחמה.\n",
      "ויאמר אליו, וייגש אותה שני; ויאמר אל-אביה הנער, קחו--כול אשר-הפליטה, ל\n"
     ]
    }
   ],
   "source": [
    "print(br.generate(100, \"החמור של בילעם אומר \"))"
   ]
  },
  {
   "cell_type": "code",
   "execution_count": null,
   "id": "a9758586",
   "metadata": {},
   "outputs": [],
   "source": []
  }
 ],
 "metadata": {
  "kernelspec": {
   "display_name": "Python 3",
   "language": "python",
   "name": "python3"
  },
  "language_info": {
   "codemirror_mode": {
    "name": "ipython",
    "version": 3
   },
   "file_extension": ".py",
   "mimetype": "text/x-python",
   "name": "python",
   "nbconvert_exporter": "python",
   "pygments_lexer": "ipython3",
   "version": "3.10.6"
  }
 },
 "nbformat": 4,
 "nbformat_minor": 5
}
